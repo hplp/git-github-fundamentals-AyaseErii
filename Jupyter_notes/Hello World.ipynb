{
 "cells": [
  {
   "cell_type": "markdown",
   "id": "6dc7a250",
   "metadata": {},
   "source": [
    "# Hello world!\n",
    "This is my first Jupyter notebook. It's so easy to create!\n",
    "## Steps\n",
    "Here are the steps to create a Jupyter notebook:\n",
    "* Open Jupyter Notebook\n",
    "* Create a new notebook\n",
    "* Type some code\n",
    "* Run the code\n",
    "* Save the notebook\n",
    "Enjoy creating your own notebooks!"
   ]
  },
  {
   "cell_type": "code",
   "execution_count": 1,
   "id": "99c256f4",
   "metadata": {},
   "outputs": [
    {
     "name": "stdout",
     "output_type": "stream",
     "text": [
      "Hello World!\n"
     ]
    }
   ],
   "source": [
    " print(\"Hello World!\")"
   ]
  }
 ],
 "metadata": {
  "kernelspec": {
   "display_name": "Python 3",
   "language": "python",
   "name": "python3"
  },
  "language_info": {
   "codemirror_mode": {
    "name": "ipython",
    "version": 3
   },
   "file_extension": ".py",
   "mimetype": "text/x-python",
   "name": "python",
   "nbconvert_exporter": "python",
   "pygments_lexer": "ipython3",
   "version": "3.8.8"
  }
 },
 "nbformat": 4,
 "nbformat_minor": 5
}
